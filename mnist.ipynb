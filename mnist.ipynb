{
 "cells": [
  {
   "cell_type": "code",
   "execution_count": 12,
   "metadata": {},
   "outputs": [],
   "source": [
    "import torch\n",
    "import torch.nn as nn\n",
    "import torch.optim as optim\n",
    "from torchvision import datasets, transforms\n",
    "import matplotlib.pyplot as plt"
   ]
  },
  {
   "cell_type": "markdown",
   "metadata": {},
   "source": [
    "## Load MNIST dataset"
   ]
  },
  {
   "cell_type": "code",
   "execution_count": 13,
   "metadata": {},
   "outputs": [
    {
     "name": "stdout",
     "output_type": "stream",
     "text": [
      "Downloading http://yann.lecun.com/exdb/mnist/train-images-idx3-ubyte.gz\n",
      "Failed to download (trying next):\n",
      "HTTP Error 404: Not Found\n",
      "\n",
      "Downloading https://ossci-datasets.s3.amazonaws.com/mnist/train-images-idx3-ubyte.gz\n",
      "Downloading https://ossci-datasets.s3.amazonaws.com/mnist/train-images-idx3-ubyte.gz to ./data\\MNIST\\raw\\train-images-idx3-ubyte.gz\n"
     ]
    },
    {
     "data": {
      "application/vnd.jupyter.widget-view+json": {
       "model_id": "1c9bbb2194304e51b40d77a34bcaaa45",
       "version_major": 2,
       "version_minor": 0
      },
      "text/plain": [
       "  0%|          | 0/9912422 [00:00<?, ?it/s]"
      ]
     },
     "metadata": {},
     "output_type": "display_data"
    },
    {
     "name": "stdout",
     "output_type": "stream",
     "text": [
      "Extracting ./data\\MNIST\\raw\\train-images-idx3-ubyte.gz to ./data\\MNIST\\raw\n",
      "\n",
      "Downloading http://yann.lecun.com/exdb/mnist/train-labels-idx1-ubyte.gz\n",
      "Failed to download (trying next):\n",
      "HTTP Error 404: Not Found\n",
      "\n",
      "Downloading https://ossci-datasets.s3.amazonaws.com/mnist/train-labels-idx1-ubyte.gz\n",
      "Downloading https://ossci-datasets.s3.amazonaws.com/mnist/train-labels-idx1-ubyte.gz to ./data\\MNIST\\raw\\train-labels-idx1-ubyte.gz\n"
     ]
    },
    {
     "data": {
      "application/vnd.jupyter.widget-view+json": {
       "model_id": "9e42bc45a26f4ac4a2ae0291753c5370",
       "version_major": 2,
       "version_minor": 0
      },
      "text/plain": [
       "  0%|          | 0/28881 [00:00<?, ?it/s]"
      ]
     },
     "metadata": {},
     "output_type": "display_data"
    },
    {
     "name": "stdout",
     "output_type": "stream",
     "text": [
      "Extracting ./data\\MNIST\\raw\\train-labels-idx1-ubyte.gz to ./data\\MNIST\\raw\n",
      "\n",
      "Downloading http://yann.lecun.com/exdb/mnist/t10k-images-idx3-ubyte.gz\n",
      "Failed to download (trying next):\n",
      "HTTP Error 404: Not Found\n",
      "\n",
      "Downloading https://ossci-datasets.s3.amazonaws.com/mnist/t10k-images-idx3-ubyte.gz\n",
      "Downloading https://ossci-datasets.s3.amazonaws.com/mnist/t10k-images-idx3-ubyte.gz to ./data\\MNIST\\raw\\t10k-images-idx3-ubyte.gz\n"
     ]
    },
    {
     "data": {
      "application/vnd.jupyter.widget-view+json": {
       "model_id": "3839be0d5f1e409d9851da805aa72789",
       "version_major": 2,
       "version_minor": 0
      },
      "text/plain": [
       "  0%|          | 0/1648877 [00:00<?, ?it/s]"
      ]
     },
     "metadata": {},
     "output_type": "display_data"
    },
    {
     "name": "stdout",
     "output_type": "stream",
     "text": [
      "Extracting ./data\\MNIST\\raw\\t10k-images-idx3-ubyte.gz to ./data\\MNIST\\raw\n",
      "\n",
      "Downloading http://yann.lecun.com/exdb/mnist/t10k-labels-idx1-ubyte.gz\n",
      "Failed to download (trying next):\n",
      "HTTP Error 404: Not Found\n",
      "\n",
      "Downloading https://ossci-datasets.s3.amazonaws.com/mnist/t10k-labels-idx1-ubyte.gz\n",
      "Downloading https://ossci-datasets.s3.amazonaws.com/mnist/t10k-labels-idx1-ubyte.gz to ./data\\MNIST\\raw\\t10k-labels-idx1-ubyte.gz\n"
     ]
    },
    {
     "data": {
      "application/vnd.jupyter.widget-view+json": {
       "model_id": "65cf641a38de46ad9d46140c6bcc7a37",
       "version_major": 2,
       "version_minor": 0
      },
      "text/plain": [
       "  0%|          | 0/4542 [00:00<?, ?it/s]"
      ]
     },
     "metadata": {},
     "output_type": "display_data"
    },
    {
     "name": "stdout",
     "output_type": "stream",
     "text": [
      "Extracting ./data\\MNIST\\raw\\t10k-labels-idx1-ubyte.gz to ./data\\MNIST\\raw\n",
      "\n"
     ]
    }
   ],
   "source": [
    "# Define a transform to normalize and binarize the data\n",
    "transform = transforms.Compose([\n",
    "    transforms.ToTensor(),\n",
    "    transforms.Lambda(lambda x: (x > 0.5).float())  # Binarize the images\n",
    "])\n",
    "\n",
    "# Load the MNIST dataset\n",
    "train_dataset = datasets.MNIST(root='./data', train=True, download=True, transform=transform)\n",
    "test_dataset = datasets.MNIST(root='./data', train=False, download=True, transform=transform)\n",
    "\n",
    "# Create data loaders\n",
    "train_loader = torch.utils.data.DataLoader(train_dataset, batch_size=128, shuffle=True)\n",
    "test_loader = torch.utils.data.DataLoader(test_dataset, batch_size=128, shuffle=False)"
   ]
  },
  {
   "cell_type": "markdown",
   "metadata": {},
   "source": [
    "## Definne the VAE"
   ]
  },
  {
   "cell_type": "code",
   "execution_count": 14,
   "metadata": {},
   "outputs": [],
   "source": [
    "class VAE(nn.Module):\n",
    "    def __init__(self, latent_dim=2):\n",
    "        super(VAE, self).__init__()\n",
    "        self.latent_dim = latent_dim\n",
    "\n",
    "        # Encoder\n",
    "        self.encoder = nn.Sequential(\n",
    "            nn.Conv2d(1, 32, kernel_size=3, stride=2, padding=1),\n",
    "            nn.ReLU(),\n",
    "            nn.Conv2d(32, 64, kernel_size=3, stride=2, padding=1),\n",
    "            nn.ReLU(),\n",
    "            nn.Flatten(),\n",
    "            nn.Linear(64 * 7 * 7, 16),\n",
    "            nn.ReLU()\n",
    "        )\n",
    "        self.fc_mu = nn.Linear(16, latent_dim)\n",
    "        self.fc_logvar = nn.Linear(16, latent_dim)\n",
    "\n",
    "        # Decoder\n",
    "        self.decoder_fc = nn.Linear(latent_dim, 64 * 7 * 7)\n",
    "        self.decoder = nn.Sequential(\n",
    "            nn.ConvTranspose2d(64, 32, kernel_size=3, stride=2, padding=1, output_padding=1),\n",
    "            nn.ReLU(),\n",
    "            nn.ConvTranspose2d(32, 1, kernel_size=3, stride=2, padding=1, output_padding=1),\n",
    "            nn.Sigmoid()\n",
    "        )\n",
    "\n",
    "    def encode(self, x):\n",
    "        h = self.encoder(x)\n",
    "        mu = self.fc_mu(h)\n",
    "        logvar = self.fc_logvar(h)\n",
    "        return mu, logvar\n",
    "\n",
    "    def reparameterize(self, mu, logvar):\n",
    "        std = torch.exp(0.5 * logvar)\n",
    "        eps = torch.randn_like(std)\n",
    "        return mu + eps * std\n",
    "\n",
    "    def decode(self, z):\n",
    "        h = self.decoder_fc(z)\n",
    "        h = h.view(-1, 64, 7, 7)\n",
    "        return self.decoder(h)\n",
    "\n",
    "    def forward(self, x):\n",
    "        mu, logvar = self.encode(x)\n",
    "        z = self.reparameterize(mu, logvar)\n",
    "        return self.decode(z), mu, logvar"
   ]
  },
  {
   "cell_type": "code",
   "execution_count": 15,
   "metadata": {},
   "outputs": [],
   "source": [
    "def vae_loss(recon_x, x, mu, logvar):\n",
    "    # Reconstruction loss (binary cross-entropy)\n",
    "    BCE = nn.functional.binary_cross_entropy(recon_x, x, reduction='sum')\n",
    "\n",
    "    # KL divergence loss\n",
    "    KLD = -0.5 * torch.sum(1 + logvar - mu.pow(2) - logvar.exp())\n",
    "\n",
    "    return BCE + KLD"
   ]
  },
  {
   "cell_type": "code",
   "execution_count": 16,
   "metadata": {},
   "outputs": [
    {
     "name": "stdout",
     "output_type": "stream",
     "text": [
      "Epoch [1/10], Batch [0/469], Loss: 489.1502\n",
      "Epoch [1/10], Batch [100/469], Loss: 208.4971\n",
      "Epoch [1/10], Batch [200/469], Loss: 194.8634\n",
      "Epoch [1/10], Batch [300/469], Loss: 178.0520\n",
      "Epoch [1/10], Batch [400/469], Loss: 177.5482\n",
      "Epoch [1/10], Average Loss: 203.4425\n",
      "Epoch [2/10], Batch [0/469], Loss: 173.3476\n",
      "Epoch [2/10], Batch [100/469], Loss: 177.5736\n",
      "Epoch [2/10], Batch [200/469], Loss: 177.4388\n",
      "Epoch [2/10], Batch [300/469], Loss: 168.8157\n",
      "Epoch [2/10], Batch [400/469], Loss: 168.3416\n",
      "Epoch [2/10], Average Loss: 172.6812\n",
      "Epoch [3/10], Batch [0/469], Loss: 165.1755\n",
      "Epoch [3/10], Batch [100/469], Loss: 165.0112\n",
      "Epoch [3/10], Batch [200/469], Loss: 175.0616\n",
      "Epoch [3/10], Batch [300/469], Loss: 165.6582\n",
      "Epoch [3/10], Batch [400/469], Loss: 164.0275\n",
      "Epoch [3/10], Average Loss: 166.6088\n",
      "Epoch [4/10], Batch [0/469], Loss: 159.6357\n",
      "Epoch [4/10], Batch [100/469], Loss: 163.2424\n",
      "Epoch [4/10], Batch [200/469], Loss: 163.5820\n",
      "Epoch [4/10], Batch [300/469], Loss: 159.9962\n",
      "Epoch [4/10], Batch [400/469], Loss: 168.7183\n",
      "Epoch [4/10], Average Loss: 162.1300\n",
      "Epoch [5/10], Batch [0/469], Loss: 157.5501\n",
      "Epoch [5/10], Batch [100/469], Loss: 161.3985\n",
      "Epoch [5/10], Batch [200/469], Loss: 163.1860\n",
      "Epoch [5/10], Batch [300/469], Loss: 156.8073\n",
      "Epoch [5/10], Batch [400/469], Loss: 147.4867\n",
      "Epoch [5/10], Average Loss: 158.8974\n",
      "Epoch [6/10], Batch [0/469], Loss: 148.2157\n",
      "Epoch [6/10], Batch [100/469], Loss: 157.8000\n",
      "Epoch [6/10], Batch [200/469], Loss: 156.2907\n",
      "Epoch [6/10], Batch [300/469], Loss: 145.9186\n",
      "Epoch [6/10], Batch [400/469], Loss: 153.7742\n",
      "Epoch [6/10], Average Loss: 156.7090\n",
      "Epoch [7/10], Batch [0/469], Loss: 156.7045\n",
      "Epoch [7/10], Batch [100/469], Loss: 154.4036\n",
      "Epoch [7/10], Batch [200/469], Loss: 154.3570\n",
      "Epoch [7/10], Batch [300/469], Loss: 157.5062\n",
      "Epoch [7/10], Batch [400/469], Loss: 149.0669\n",
      "Epoch [7/10], Average Loss: 155.1013\n",
      "Epoch [8/10], Batch [0/469], Loss: 153.4427\n",
      "Epoch [8/10], Batch [100/469], Loss: 150.5810\n",
      "Epoch [8/10], Batch [200/469], Loss: 156.9991\n",
      "Epoch [8/10], Batch [300/469], Loss: 165.6546\n",
      "Epoch [8/10], Batch [400/469], Loss: 155.0238\n",
      "Epoch [8/10], Average Loss: 153.8835\n",
      "Epoch [9/10], Batch [0/469], Loss: 155.7240\n",
      "Epoch [9/10], Batch [100/469], Loss: 155.3340\n",
      "Epoch [9/10], Batch [200/469], Loss: 157.6242\n",
      "Epoch [9/10], Batch [300/469], Loss: 148.2257\n",
      "Epoch [9/10], Batch [400/469], Loss: 149.0687\n",
      "Epoch [9/10], Average Loss: 152.8625\n",
      "Epoch [10/10], Batch [0/469], Loss: 154.8898\n",
      "Epoch [10/10], Batch [100/469], Loss: 150.9225\n",
      "Epoch [10/10], Batch [200/469], Loss: 154.8242\n",
      "Epoch [10/10], Batch [300/469], Loss: 151.5389\n",
      "Epoch [10/10], Batch [400/469], Loss: 151.8287\n",
      "Epoch [10/10], Average Loss: 152.1043\n"
     ]
    }
   ],
   "source": [
    "# Initialize the VAE model\n",
    "device = torch.device(\"cuda\" if torch.cuda.is_available() else \"cpu\")\n",
    "model = VAE(latent_dim=2).to(device)\n",
    "optimizer = optim.Adam(model.parameters(), lr=1e-3)\n",
    "\n",
    "# Training loop\n",
    "num_epochs = 10\n",
    "for epoch in range(num_epochs):\n",
    "    model.train()\n",
    "    train_loss = 0\n",
    "    for batch_idx, (data, _) in enumerate(train_loader):\n",
    "        data = data.to(device)\n",
    "\n",
    "        # Forward pass\n",
    "        recon_batch, mu, logvar = model(data)\n",
    "        loss = vae_loss(recon_batch, data, mu, logvar)\n",
    "\n",
    "        # Backward pass and optimization\n",
    "        optimizer.zero_grad()\n",
    "        loss.backward()\n",
    "        optimizer.step()\n",
    "\n",
    "        train_loss += loss.item()\n",
    "\n",
    "        if batch_idx % 100 == 0:\n",
    "            print(f\"Epoch [{epoch+1}/{num_epochs}], Batch [{batch_idx}/{len(train_loader)}], Loss: {loss.item()/len(data):.4f}\")\n",
    "\n",
    "    print(f\"Epoch [{epoch+1}/{num_epochs}], Average Loss: {train_loss/len(train_loader.dataset):.4f}\")"
   ]
  },
  {
   "cell_type": "code",
   "execution_count": 47,
   "metadata": {},
   "outputs": [
    {
     "ename": "AttributeError",
     "evalue": "'RBMmodel' object has no attribute 'eval'",
     "output_type": "error",
     "traceback": [
      "\u001b[1;31m---------------------------------------------------------------------------\u001b[0m",
      "\u001b[1;31mAttributeError\u001b[0m                            Traceback (most recent call last)",
      "\u001b[1;32m~\\AppData\\Local\\Temp\\ipykernel_36984\\4259168885.py\u001b[0m in \u001b[0;36m<module>\u001b[1;34m\u001b[0m\n\u001b[0;32m      1\u001b[0m \u001b[1;31m# Generate new images from the latent space\u001b[0m\u001b[1;33m\u001b[0m\u001b[1;33m\u001b[0m\u001b[1;33m\u001b[0m\u001b[0m\n\u001b[1;32m----> 2\u001b[1;33m \u001b[0mmodel\u001b[0m\u001b[1;33m.\u001b[0m\u001b[0meval\u001b[0m\u001b[1;33m(\u001b[0m\u001b[1;33m)\u001b[0m\u001b[1;33m\u001b[0m\u001b[1;33m\u001b[0m\u001b[0m\n\u001b[0m\u001b[0;32m      3\u001b[0m \u001b[1;32mwith\u001b[0m \u001b[0mtorch\u001b[0m\u001b[1;33m.\u001b[0m\u001b[0mno_grad\u001b[0m\u001b[1;33m(\u001b[0m\u001b[1;33m)\u001b[0m\u001b[1;33m:\u001b[0m\u001b[1;33m\u001b[0m\u001b[1;33m\u001b[0m\u001b[0m\n\u001b[0;32m      4\u001b[0m     \u001b[0mn\u001b[0m \u001b[1;33m=\u001b[0m \u001b[1;36m15\u001b[0m  \u001b[1;31m# Figure with 15x15 digits\u001b[0m\u001b[1;33m\u001b[0m\u001b[1;33m\u001b[0m\u001b[0m\n\u001b[0;32m      5\u001b[0m     \u001b[0mdigit_size\u001b[0m \u001b[1;33m=\u001b[0m \u001b[1;36m28\u001b[0m\u001b[1;33m\u001b[0m\u001b[1;33m\u001b[0m\u001b[0m\n",
      "\u001b[1;31mAttributeError\u001b[0m: 'RBMmodel' object has no attribute 'eval'"
     ]
    }
   ],
   "source": [
    "# Generate new images from the latent space\n",
    "model.eval()\n",
    "with torch.no_grad():\n",
    "    n = 15  # Figure with 15x15 digits\n",
    "    digit_size = 28\n",
    "    figure = torch.zeros((digit_size * n, digit_size * n))\n",
    "\n",
    "    # Linearly spaced coordinates on the unit square\n",
    "    grid_x = torch.linspace(-2, 2, n)\n",
    "    grid_y = torch.linspace(-2, 2, n)\n",
    "\n",
    "    for i, yi in enumerate(grid_y):\n",
    "        for j, xi in enumerate(grid_x):\n",
    "            z = torch.tensor([[xi, yi]], device=device)\n",
    "            x_decoded = model.decode(z)\n",
    "            digit = x_decoded[0].reshape(digit_size, digit_size).cpu()\n",
    "            figure[i * digit_size: (i + 1) * digit_size,\n",
    "                   j * digit_size: (j + 1) * digit_size] = (digit>0.5)*1.0\n",
    "\n",
    "    plt.figure(figsize=(10, 10))\n",
    "    plt.imshow(figure)\n",
    "    plt.show()"
   ]
  },
  {
   "cell_type": "markdown",
   "metadata": {},
   "source": [
    "## RBM :"
   ]
  },
  {
   "cell_type": "code",
   "execution_count": 19,
   "metadata": {},
   "outputs": [],
   "source": [
    "import numpy as np\n",
    "\n",
    "def read_idx(filename):\n",
    "    \"\"\"Read IDX file format and return data as a NumPy array.\"\"\"\n",
    "    with open(filename, 'rb') as f:\n",
    "        # Read the magic number (first 4 bytes)\n",
    "        magic_number = int.from_bytes(f.read(4), byteorder='big')\n",
    "        \n",
    "        # Ensure it's a valid IDX file\n",
    "        if magic_number != 2051:\n",
    "            raise ValueError(f\"Invalid magic number for IDX image file: {magic_number}\")\n",
    "        \n",
    "        # Read the number of images (next 4 bytes)\n",
    "        num_images = int.from_bytes(f.read(4), byteorder='big')\n",
    "        \n",
    "        # Read the number of rows (next 4 bytes)\n",
    "        num_rows = int.from_bytes(f.read(4), byteorder='big')\n",
    "        \n",
    "        # Read the number of columns (next 4 bytes)\n",
    "        num_cols = int.from_bytes(f.read(4), byteorder='big')\n",
    "        \n",
    "        # Read the image data\n",
    "        image_data = np.frombuffer(f.read(), dtype=np.uint8)\n",
    "        \n",
    "        # Reshape the data into a 3D array (num_images, num_rows, num_cols)\n",
    "        images = image_data.reshape(num_images, num_rows, num_cols)\n",
    "        \n",
    "        return images\n",
    "\n",
    "# Path to the t10k-images-idx3-ubyte file\n",
    "file_path = 'data/MNIST/raw/t10k-images-idx3-ubyte'\n",
    "\n",
    "# Read the images\n",
    "X = read_idx(file_path)"
   ]
  },
  {
   "cell_type": "code",
   "execution_count": 20,
   "metadata": {},
   "outputs": [],
   "source": [
    "# Normalize the images to the range [0, 1]\n",
    "X = X.astype('float32') / 255.0\n",
    "\n",
    "# Binarize the images using a threshold of 0.5\n",
    "X = np.where(X > 0.5, 1.0, 0.0)"
   ]
  },
  {
   "cell_type": "code",
   "execution_count": 23,
   "metadata": {},
   "outputs": [],
   "source": [
    "####   params init   #####\n",
    "\n",
    "XX = np.array( [item.flatten() for item in X] ).astype('float')\n",
    "p = XX.shape[1]\n",
    "\n",
    "n_epochs = 300\n",
    "batch_size = 16\n",
    "lr = 0.05\n",
    "\n",
    "\n",
    "## hyper params : \n",
    "q = 2*p  # take q = 1.5x times the input dimension\n"
   ]
  },
  {
   "cell_type": "code",
   "execution_count": 24,
   "metadata": {},
   "outputs": [
    {
     "data": {
      "text/plain": [
       "(10000, 784)"
      ]
     },
     "execution_count": 24,
     "metadata": {},
     "output_type": "execute_result"
    }
   ],
   "source": [
    "XX.shape"
   ]
  },
  {
   "cell_type": "code",
   "execution_count": 26,
   "metadata": {},
   "outputs": [
    {
     "data": {
      "text/plain": [
       "<matplotlib.legend.Legend at 0x1cb2752fbc8>"
      ]
     },
     "execution_count": 26,
     "metadata": {},
     "output_type": "execute_result"
    },
    {
     "data": {
      "image/png": "[encoded data removed]",
      "text/plain": [
       "<Figure size 1000x500 with 1 Axes>"
      ]
     },
     "metadata": {},
     "output_type": "display_data"
    }
   ],
   "source": [
    "from rbm import *\n",
    "#####   init the model ########\n",
    "\n",
    "model = RBMmodel(p, q, XX, n_epochs, batch_size, lr )\n",
    "loss = model.train()\n"
   ]
  },
  {
   "cell_type": "code",
   "execution_count": 29,
   "metadata": {},
   "outputs": [
    {
     "data": {
      "text/plain": [
       "(28, 28)"
      ]
     },
     "execution_count": 29,
     "metadata": {},
     "output_type": "execute_result"
    }
   ],
   "source": [
    "X[0].shape"
   ]
  },
  {
   "cell_type": "code",
   "execution_count": 52,
   "metadata": {},
   "outputs": [
    {
     "data": {
      "image/png": "[encoded data removed]",
      "text/plain": [
       "<Figure size 2000x1000 with 10 Axes>"
      ]
     },
     "metadata": {},
     "output_type": "display_data"
    }
   ],
   "source": [
    "from data_utils import *\n",
    "img_gen_A = model.generate_images_GibbsSampling(img_size = (28, 28), L= 1000, num_images=10)\n",
    "visualize_samples(img_gen_A)"
   ]
  }
 ],
 "metadata": {
  "kernelspec": {
   "display_name": "Python 3",
   "language": "python",
   "name": "python3"
  },
  "language_info": {
   "codemirror_mode": {
    "name": "ipython",
    "version": 3
   },
   "file_extension": ".py",
   "mimetype": "text/x-python",
   "name": "python",
   "nbconvert_exporter": "python",
   "pygments_lexer": "ipython3",
   "version": "3.7.9"
  }
 },
 "nbformat": 4,
 "nbformat_minor": 2
}
