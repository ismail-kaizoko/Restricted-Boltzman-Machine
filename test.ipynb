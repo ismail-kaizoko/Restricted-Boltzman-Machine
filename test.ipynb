{
 "cells": [
  {
   "cell_type": "code",
   "execution_count": 2,
   "metadata": {},
   "outputs": [],
   "source": [
    "import numpy as np\n",
    "import random"
   ]
  },
  {
   "cell_type": "code",
   "execution_count": 10,
   "metadata": {},
   "outputs": [
    {
     "data": {
      "text/plain": [
       "array([[ 0.42149221, -0.41608072, -0.82484311,  1.22402475,  1.12300011],\n",
       "       [ 1.62373501, -1.88439095,  1.35364632,  0.27236787,  1.38622526],\n",
       "       [ 0.04645066, -0.11247595,  0.28080275, -1.53975405, -0.19846409],\n",
       "       [ 0.08481568,  1.3052825 , -0.10588622, -1.52539452, -1.21041617],\n",
       "       [-0.25388111, -0.43859395,  0.10941444, -0.65290834,  0.16483248],\n",
       "       [ 0.68084772, -0.16407672, -0.2699407 , -0.13748283,  0.47019487],\n",
       "       [-0.6473996 ,  0.02523156, -0.26827069, -0.68328502, -1.39824554],\n",
       "       [ 0.59718883, -0.35490285,  1.15184234, -0.46156871, -1.66386173],\n",
       "       [ 1.07344591,  1.11768392, -0.99279572,  0.81617954,  2.51363361],\n",
       "       [ 2.34663551,  2.17709872, -0.27886079,  2.32429509, -0.78244607]])"
      ]
     },
     "execution_count": 10,
     "metadata": {},
     "output_type": "execute_result"
    }
   ],
   "source": [
    "\n",
    "\n",
    "np.random.normal(size = (10,5))"
   ]
  }
 ],
 "metadata": {
  "kernelspec": {
   "display_name": "Python 3",
   "language": "python",
   "name": "python3"
  },
  "language_info": {
   "codemirror_mode": {
    "name": "ipython",
    "version": 3
   },
   "file_extension": ".py",
   "mimetype": "text/x-python",
   "name": "python",
   "nbconvert_exporter": "python",
   "pygments_lexer": "ipython3",
   "version": "3.7.9"
  }
 },
 "nbformat": 4,
 "nbformat_minor": 2
}
